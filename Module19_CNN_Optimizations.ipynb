{
  "cells": [
    {
      "cell_type": "markdown",
      "metadata": {
        "id": "view-in-github",
        "colab_type": "text"
      },
      "source": [
        "<a href=\"https://colab.research.google.com/github/shunte88/AFDesignLoad/blob/master/Module19_CNN_Optimizations.ipynb\" target=\"_parent\"><img src=\"https://colab.research.google.com/assets/colab-badge.svg\" alt=\"Open In Colab\"/></a>"
      ]
    },
    {
      "cell_type": "code",
      "execution_count": 107,
      "metadata": {
        "id": "9yjX-FB3IUTQ",
        "colab": {
          "base_uri": "https://localhost:8080/"
        },
        "outputId": "9145b564-3628-4334-9621-0c258282427a"
      },
      "outputs": [
        {
          "output_type": "stream",
          "name": "stdout",
          "text": [
            "absl-py==1.4.0\n",
            "aiohttp==3.9.5\n",
            "aiosignal==1.3.1\n",
            "alabaster==0.7.16\n",
            "albumentations==1.3.1\n",
            "altair==4.2.2\n",
            "annotated-types==0.7.0\n",
            "anyio==3.7.1\n",
            "argon2-cffi==23.1.0\n",
            "argon2-cffi-bindings==21.2.0\n",
            "array_record==0.5.1\n",
            "arviz==0.15.1\n",
            "astropy==5.3.4\n",
            "astunparse==1.6.3\n",
            "async-timeout==4.0.3\n",
            "atpublic==4.1.0\n",
            "attrs==23.2.0\n",
            "audioread==3.0.1\n",
            "autograd==1.6.2\n",
            "Babel==2.15.0\n",
            "backcall==0.2.0\n",
            "beautifulsoup4==4.12.3\n",
            "bidict==0.23.1\n",
            "bigframes==1.9.0\n",
            "bleach==6.1.0\n",
            "blinker==1.4\n",
            "blis==0.7.11\n",
            "blosc2==2.0.0\n",
            "bokeh==3.3.4\n",
            "bqplot==0.12.43\n",
            "branca==0.7.2\n",
            "build==1.2.1\n",
            "CacheControl==0.14.0\n",
            "cachetools==5.3.3\n",
            "catalogue==2.0.10\n",
            "certifi==2024.6.2\n",
            "cffi==1.16.0\n",
            "chardet==5.2.0\n",
            "charset-normalizer==3.3.2\n",
            "chex==0.1.86\n",
            "click==8.1.7\n",
            "click-plugins==1.1.1\n",
            "cligj==0.7.2\n",
            "cloudpathlib==0.18.1\n",
            "cloudpickle==2.2.1\n",
            "cmake==3.27.9\n",
            "cmdstanpy==1.2.4\n",
            "colorcet==3.1.0\n",
            "colorlover==0.3.0\n",
            "colour==0.1.5\n",
            "community==1.0.0b1\n",
            "confection==0.1.5\n",
            "cons==0.4.6\n",
            "contextlib2==21.6.0\n",
            "contourpy==1.2.1\n",
            "cryptography==42.0.8\n",
            "cuda-python==12.2.1\n",
            "cudf-cu12 @ https://pypi.nvidia.com/cudf-cu12/cudf_cu12-24.4.1-cp310-cp310-manylinux_2_28_x86_64.whl#sha256=57366e7ef09dc63e0b389aff20df6c37d91e2790065861ee31a4720149f5b694\n",
            "cufflinks==0.17.3\n",
            "cupy-cuda12x==12.2.0\n",
            "cvxopt==1.3.2\n",
            "cvxpy==1.3.4\n",
            "cycler==0.12.1\n",
            "cymem==2.0.8\n",
            "Cython==3.0.10\n",
            "dask==2023.8.1\n",
            "datascience==0.17.6\n",
            "db-dtypes==1.2.0\n",
            "dbus-python==1.2.18\n",
            "debugpy==1.6.6\n",
            "decorator==4.4.2\n",
            "defusedxml==0.7.1\n",
            "distributed==2023.8.1\n",
            "distro==1.7.0\n",
            "dlib==19.24.4\n",
            "dm-tree==0.1.8\n",
            "docstring_parser==0.16\n",
            "docutils==0.18.1\n",
            "dopamine_rl==4.0.9\n",
            "duckdb==0.10.3\n",
            "earthengine-api==0.1.408\n",
            "easydict==1.13\n",
            "ecos==2.0.14\n",
            "editdistance==0.6.2\n",
            "eerepr==0.0.4\n",
            "en-core-web-sm @ https://github.com/explosion/spacy-models/releases/download/en_core_web_sm-3.7.1/en_core_web_sm-3.7.1-py3-none-any.whl#sha256=86cc141f63942d4b2c5fcee06630fd6f904788d2f0ab005cce45aadb8fb73889\n",
            "entrypoints==0.4\n",
            "et-xmlfile==1.1.0\n",
            "etils==1.7.0\n",
            "etuples==0.3.9\n",
            "exceptiongroup==1.2.1\n",
            "fastai==2.7.15\n",
            "fastcore==1.5.46\n",
            "fastdownload==0.0.7\n",
            "fastjsonschema==2.20.0\n",
            "fastprogress==1.0.3\n",
            "fastrlock==0.8.2\n",
            "filelock==3.15.3\n",
            "fiona==1.9.6\n",
            "firebase-admin==5.3.0\n",
            "Flask==2.2.5\n",
            "flatbuffers==24.3.25\n",
            "flax==0.8.4\n",
            "folium==0.14.0\n",
            "fonttools==4.53.0\n",
            "frozendict==2.4.4\n",
            "frozenlist==1.4.1\n",
            "fsspec==2023.6.0\n",
            "future==0.18.3\n",
            "gast==0.5.4\n",
            "gcsfs==2023.6.0\n",
            "GDAL==3.6.4\n",
            "gdown==5.1.0\n",
            "geemap==0.32.1\n",
            "gensim==4.3.2\n",
            "geocoder==1.38.1\n",
            "geographiclib==2.0\n",
            "geopandas==0.13.2\n",
            "geopy==2.3.0\n",
            "gin-config==0.5.0\n",
            "glob2==0.7\n",
            "google==2.0.3\n",
            "google-ai-generativelanguage==0.6.4\n",
            "google-api-core==2.11.1\n",
            "google-api-python-client==2.84.0\n",
            "google-auth==2.27.0\n",
            "google-auth-httplib2==0.1.1\n",
            "google-auth-oauthlib==1.2.0\n",
            "google-cloud-aiplatform==1.56.0\n",
            "google-cloud-bigquery==3.21.0\n",
            "google-cloud-bigquery-connection==1.12.1\n",
            "google-cloud-bigquery-storage==2.25.0\n",
            "google-cloud-core==2.3.3\n",
            "google-cloud-datastore==2.15.2\n",
            "google-cloud-firestore==2.11.1\n",
            "google-cloud-functions==1.13.3\n",
            "google-cloud-iam==2.15.0\n",
            "google-cloud-language==2.13.3\n",
            "google-cloud-resource-manager==1.12.3\n",
            "google-cloud-storage==2.8.0\n",
            "google-cloud-translate==3.11.3\n",
            "google-colab @ file:///colabtools/dist/google-colab-1.0.0.tar.gz#sha256=70c64395225388a8dd257f46577fac0b3e540cde40461c50f282d78097dc0e25\n",
            "google-crc32c==1.5.0\n",
            "google-generativeai==0.5.4\n",
            "google-pasta==0.2.0\n",
            "google-resumable-media==2.7.1\n",
            "googleapis-common-protos==1.63.1\n",
            "googledrivedownloader==0.4\n",
            "graphviz==0.20.3\n",
            "greenlet==3.0.3\n",
            "grpc-google-iam-v1==0.13.0\n",
            "grpcio==1.64.1\n",
            "grpcio-status==1.48.2\n",
            "gspread==6.0.2\n",
            "gspread-dataframe==3.3.1\n",
            "gym==0.25.2\n",
            "gym-notices==0.0.8\n",
            "h5netcdf==1.3.0\n",
            "h5py==3.9.0\n",
            "holidays==0.51\n",
            "holoviews==1.17.1\n",
            "html5lib==1.1\n",
            "httpimport==1.3.1\n",
            "httplib2==0.22.0\n",
            "huggingface-hub==0.23.4\n",
            "humanize==4.7.0\n",
            "hyperopt==0.2.7\n",
            "ibis-framework==8.0.0\n",
            "idna==3.7\n",
            "imageio==2.31.6\n",
            "imageio-ffmpeg==0.5.1\n",
            "imagesize==1.4.1\n",
            "imbalanced-learn==0.10.1\n",
            "imgaug==0.4.0\n",
            "immutabledict==4.2.0\n",
            "importlib_metadata==7.2.0\n",
            "importlib_resources==6.4.0\n",
            "imutils==0.5.4\n",
            "inflect==7.0.0\n",
            "iniconfig==2.0.0\n",
            "intel-openmp==2023.2.4\n",
            "ipyevents==2.0.2\n",
            "ipyfilechooser==0.6.0\n",
            "ipykernel==5.5.6\n",
            "ipyleaflet==0.18.2\n",
            "ipyparallel==8.8.0\n",
            "ipython==7.34.0\n",
            "ipython-genutils==0.2.0\n",
            "ipython-sql==0.5.0\n",
            "ipytree==0.2.2\n",
            "ipywidgets==7.7.1\n",
            "itsdangerous==2.2.0\n",
            "jax==0.4.26\n",
            "jaxlib @ https://storage.googleapis.com/jax-releases/cuda12/jaxlib-0.4.26+cuda12.cudnn89-cp310-cp310-manylinux2014_x86_64.whl#sha256=813cf1fe3e7ca4dbf5327d6e7b4fc8521e92d8bba073ee645ae0d5d036a25750\n",
            "jeepney==0.7.1\n",
            "jellyfish==1.0.4\n",
            "jieba==0.42.1\n",
            "Jinja2==3.1.4\n",
            "joblib==1.4.2\n",
            "jsonpickle==3.2.2\n",
            "jsonschema==4.19.2\n",
            "jsonschema-specifications==2023.12.1\n",
            "jupyter-client==6.1.12\n",
            "jupyter-console==6.1.0\n",
            "jupyter-server==1.24.0\n",
            "jupyter_core==5.7.2\n",
            "jupyterlab_pygments==0.3.0\n",
            "jupyterlab_widgets==3.0.11\n",
            "kaggle==1.6.14\n",
            "kagglehub==0.2.5\n",
            "keras==2.15.0\n",
            "keyring==23.5.0\n",
            "kiwisolver==1.4.5\n",
            "langcodes==3.4.0\n",
            "language_data==1.2.0\n",
            "launchpadlib==1.10.16\n",
            "lazr.restfulclient==0.14.4\n",
            "lazr.uri==1.0.6\n",
            "lazy_loader==0.4\n",
            "libclang==18.1.1\n",
            "librosa==0.10.2.post1\n",
            "lightgbm==4.1.0\n",
            "linkify-it-py==2.0.3\n",
            "llvmlite==0.41.1\n",
            "locket==1.0.0\n",
            "logical-unification==0.4.6\n",
            "lxml==4.9.4\n",
            "malloy==2023.1067\n",
            "marisa-trie==1.2.0\n",
            "Markdown==3.6\n",
            "markdown-it-py==3.0.0\n",
            "MarkupSafe==2.1.5\n",
            "matplotlib==3.7.1\n",
            "matplotlib-inline==0.1.7\n",
            "matplotlib-venn==0.11.10\n",
            "mdit-py-plugins==0.4.1\n",
            "mdurl==0.1.2\n",
            "miniKanren==1.0.3\n",
            "missingno==0.5.2\n",
            "mistune==0.8.4\n",
            "mizani==0.9.3\n",
            "mkl==2023.2.0\n",
            "ml-dtypes==0.2.0\n",
            "mlxtend==0.22.0\n",
            "more-itertools==10.1.0\n",
            "moviepy==1.0.3\n",
            "mpmath==1.3.0\n",
            "msgpack==1.0.8\n",
            "multidict==6.0.5\n",
            "multipledispatch==1.0.0\n",
            "multitasking==0.0.11\n",
            "murmurhash==1.0.10\n",
            "music21==9.1.0\n",
            "natsort==8.4.0\n",
            "nbclassic==1.1.0\n",
            "nbclient==0.10.0\n",
            "nbconvert==6.5.4\n",
            "nbformat==5.10.4\n",
            "nest-asyncio==1.6.0\n",
            "networkx==3.3\n",
            "nibabel==4.0.2\n",
            "nltk==3.8.1\n",
            "notebook==6.5.5\n",
            "notebook_shim==0.2.4\n",
            "np-utils==0.6.0\n",
            "numba==0.58.1\n",
            "numexpr==2.10.1\n",
            "numpy==1.25.2\n",
            "nvtx==0.2.10\n",
            "oauth2client==4.1.3\n",
            "oauthlib==3.2.2\n",
            "opencv-contrib-python==4.8.0.76\n",
            "opencv-python==4.8.0.76\n",
            "opencv-python-headless==4.10.0.84\n",
            "openpyxl==3.1.4\n",
            "opt-einsum==3.3.0\n",
            "optax==0.2.2\n",
            "orbax-checkpoint==0.4.4\n",
            "osqp==0.6.2.post8\n",
            "packaging==24.1\n",
            "pandas==2.0.3\n",
            "pandas-datareader==0.10.0\n",
            "pandas-gbq==0.19.2\n",
            "pandas-stubs==2.0.3.230814\n",
            "pandocfilters==1.5.1\n",
            "panel==1.3.8\n",
            "param==2.1.0\n",
            "parso==0.8.4\n",
            "parsy==2.1\n",
            "partd==1.4.2\n",
            "pathlib==1.0.1\n",
            "patsy==0.5.6\n",
            "peewee==3.17.5\n",
            "pexpect==4.9.0\n",
            "pickleshare==0.7.5\n",
            "Pillow==9.4.0\n",
            "pip-tools==6.13.0\n",
            "platformdirs==4.2.2\n",
            "plotly==5.15.0\n",
            "plotnine==0.12.4\n",
            "pluggy==1.5.0\n",
            "polars==0.20.2\n",
            "pooch==1.8.2\n",
            "portpicker==1.5.2\n",
            "prefetch-generator==1.0.3\n",
            "preshed==3.0.9\n",
            "prettytable==3.10.0\n",
            "proglog==0.1.10\n",
            "progressbar2==4.2.0\n",
            "prometheus_client==0.20.0\n",
            "promise==2.3\n",
            "prompt_toolkit==3.0.47\n",
            "prophet==1.1.5\n",
            "proto-plus==1.24.0\n",
            "protobuf==3.20.3\n",
            "psutil==5.9.5\n",
            "psycopg2==2.9.9\n",
            "ptyprocess==0.7.0\n",
            "py-cpuinfo==9.0.0\n",
            "py4j==0.10.9.7\n",
            "pyarrow==14.0.2\n",
            "pyarrow-hotfix==0.6\n",
            "pyasn1==0.6.0\n",
            "pyasn1_modules==0.4.0\n",
            "pycocotools==2.0.8\n",
            "pycparser==2.22\n",
            "pydantic==2.7.4\n",
            "pydantic_core==2.18.4\n",
            "pydata-google-auth==1.8.2\n",
            "pydot==1.4.2\n",
            "pydot-ng==2.0.0\n",
            "pydotplus==2.0.2\n",
            "PyDrive==1.3.1\n",
            "PyDrive2==1.6.3\n",
            "pyerfa==2.0.1.4\n",
            "pygame==2.5.2\n",
            "Pygments==2.16.1\n",
            "PyGObject==3.42.1\n",
            "PyJWT==2.3.0\n",
            "pymc==5.10.4\n",
            "pymystem3==0.2.0\n",
            "pynvjitlink-cu12==0.2.4\n",
            "PyOpenGL==3.1.7\n",
            "pyOpenSSL==24.1.0\n",
            "pyparsing==3.1.2\n",
            "pyperclip==1.9.0\n",
            "pyproj==3.6.1\n",
            "pyproject_hooks==1.1.0\n",
            "pyshp==2.3.1\n",
            "PySocks==1.7.1\n",
            "pytensor==2.18.6\n",
            "pytest==7.4.4\n",
            "python-apt @ file:///backend-container/containers/python_apt-0.0.0-cp310-cp310-linux_x86_64.whl#sha256=b209c7165d6061963abe611492f8c91c3bcef4b7a6600f966bab58900c63fefa\n",
            "python-box==7.2.0\n",
            "python-dateutil==2.8.2\n",
            "python-louvain==0.16\n",
            "python-slugify==8.0.4\n",
            "python-utils==3.8.2\n",
            "pytz==2023.4\n",
            "pyviz_comms==3.0.2\n",
            "PyWavelets==1.6.0\n",
            "PyYAML==6.0.1\n",
            "pyzmq==24.0.1\n",
            "qdldl==0.1.7.post3\n",
            "qudida==0.0.4\n",
            "ratelim==0.1.6\n",
            "referencing==0.35.1\n",
            "regex==2024.5.15\n",
            "requests==2.31.0\n",
            "requests-oauthlib==1.3.1\n",
            "requirements-parser==0.9.0\n",
            "rich==13.7.1\n",
            "rmm-cu12==24.4.0\n",
            "rpds-py==0.18.1\n",
            "rpy2==3.4.2\n",
            "rsa==4.9\n",
            "safetensors==0.4.3\n",
            "scikit-image==0.19.3\n",
            "scikit-learn==1.2.2\n",
            "scipy==1.11.4\n",
            "scooby==0.10.0\n",
            "scs==3.2.4.post3\n",
            "seaborn==0.13.1\n",
            "SecretStorage==3.3.1\n",
            "Send2Trash==1.8.3\n",
            "sentencepiece==0.1.99\n",
            "shapely==2.0.4\n",
            "shellingham==1.5.4\n",
            "simple_parsing==0.1.5\n",
            "six==1.16.0\n",
            "sklearn-pandas==2.2.0\n",
            "smart-open==7.0.4\n",
            "sniffio==1.3.1\n",
            "snowballstemmer==2.2.0\n",
            "sortedcontainers==2.4.0\n",
            "soundfile==0.12.1\n",
            "soupsieve==2.5\n",
            "soxr==0.3.7\n",
            "spacy==3.7.5\n",
            "spacy-legacy==3.0.12\n",
            "spacy-loggers==1.0.5\n",
            "Sphinx==5.0.2\n",
            "sphinxcontrib-applehelp==1.0.8\n",
            "sphinxcontrib-devhelp==1.0.6\n",
            "sphinxcontrib-htmlhelp==2.0.5\n",
            "sphinxcontrib-jsmath==1.0.1\n",
            "sphinxcontrib-qthelp==1.0.7\n",
            "sphinxcontrib-serializinghtml==1.1.10\n",
            "SQLAlchemy==2.0.31\n",
            "sqlglot==20.11.0\n",
            "sqlparse==0.5.0\n",
            "srsly==2.4.8\n",
            "stanio==0.5.0\n",
            "statsmodels==0.14.2\n",
            "StrEnum==0.4.15\n",
            "sympy==1.12.1\n",
            "tables==3.8.0\n",
            "tabulate==0.9.0\n",
            "tbb==2021.13.0\n",
            "tblib==3.0.0\n",
            "tenacity==8.4.1\n",
            "tensorboard==2.15.2\n",
            "tensorboard-data-server==0.7.2\n",
            "tensorflow @ https://storage.googleapis.com/colab-tf-builds-public-09h6ksrfwbb9g9xv/tensorflow-2.15.0-cp310-cp310-manylinux_2_17_x86_64.manylinux2014_x86_64.whl#sha256=a2ec79931350b378c1ef300ca836b52a55751acb71a433582508a07f0de57c42\n",
            "tensorflow-datasets==4.9.6\n",
            "tensorflow-estimator==2.15.0\n",
            "tensorflow-gcs-config==2.15.0\n",
            "tensorflow-hub==0.16.1\n",
            "tensorflow-io-gcs-filesystem==0.37.0\n",
            "tensorflow-metadata==1.15.0\n",
            "tensorflow-probability==0.23.0\n",
            "tensorstore==0.1.45\n",
            "termcolor==2.4.0\n",
            "terminado==0.18.1\n",
            "text-unidecode==1.3\n",
            "textblob==0.17.1\n",
            "tf-slim==1.1.0\n",
            "tf_keras==2.15.1\n",
            "thinc==8.2.5\n",
            "threadpoolctl==3.5.0\n",
            "tifffile==2024.6.18\n",
            "tinycss2==1.3.0\n",
            "tokenizers==0.19.1\n",
            "toml==0.10.2\n",
            "tomli==2.0.1\n",
            "toolz==0.12.1\n",
            "torch @ https://download.pytorch.org/whl/cu121/torch-2.3.0%2Bcu121-cp310-cp310-linux_x86_64.whl#sha256=0a12aa9aa6bc442dff8823ac8b48d991fd0771562eaa38593f9c8196d65f7007\n",
            "torchaudio @ https://download.pytorch.org/whl/cu121/torchaudio-2.3.0%2Bcu121-cp310-cp310-linux_x86_64.whl#sha256=38b49393f8c322dcaa29d19e5acbf5a0b1978cf1b719445ab670f1fb486e3aa6\n",
            "torchsummary==1.5.1\n",
            "torchtext==0.18.0\n",
            "torchvision @ https://download.pytorch.org/whl/cu121/torchvision-0.18.0%2Bcu121-cp310-cp310-linux_x86_64.whl#sha256=13e1b48dc5ce41ccb8100ab3dd26fdf31d8f1e904ecf2865ac524493013d0df5\n",
            "tornado==6.3.3\n",
            "tqdm==4.66.4\n",
            "traitlets==5.7.1\n",
            "traittypes==0.2.1\n",
            "transformers==4.41.2\n",
            "triton==2.3.0\n",
            "tweepy==4.14.0\n",
            "typer==0.12.3\n",
            "types-pytz==2024.1.0.20240417\n",
            "types-setuptools==70.1.0.20240625\n",
            "typing_extensions==4.12.2\n",
            "tzdata==2024.1\n",
            "tzlocal==5.2\n",
            "uc-micro-py==1.0.3\n",
            "uritemplate==4.1.1\n",
            "urllib3==2.0.7\n",
            "vega-datasets==0.9.0\n",
            "wadllib==1.3.6\n",
            "wasabi==1.1.3\n",
            "wcwidth==0.2.13\n",
            "weasel==0.4.1\n",
            "webcolors==24.6.0\n",
            "webencodings==0.5.1\n",
            "websocket-client==1.8.0\n",
            "Werkzeug==3.0.3\n",
            "widgetsnbextension==3.6.6\n",
            "wordcloud==1.9.3\n",
            "wrapt==1.14.1\n",
            "xarray==2023.7.0\n",
            "xarray-einstats==0.7.0\n",
            "xgboost==2.0.3\n",
            "xlrd==2.0.1\n",
            "xyzservices==2024.6.0\n",
            "yarl==1.9.4\n",
            "yellowbrick==1.5\n",
            "yfinance==0.2.40\n",
            "zict==3.0.0\n",
            "zipp==3.19.2\n"
          ]
        }
      ],
      "source": [
        "import numpy as np\n",
        "import pandas as pd\n",
        "from subprocess import check_output\n",
        "from sklearn.model_selection import train_test_split\n",
        "from sklearn.metrics import classification_report\n",
        "import matplotlib.pyplot as plt\n",
        "import matplotlib\n",
        "import matplotlib.image as mpimg\n",
        "import numpy as np\n",
        "from numpy import random\n",
        "\n",
        "from keras.models import Sequential\n",
        "from keras.layers import Dense, Dropout, Activation, Flatten, Conv2D, MaxPooling2D\n",
        "# removed in 2023\n",
        "#from keras.utils import np_utils\n",
        "from keras import utils as np_utils\n",
        "\n",
        "from keras.preprocessing.image import ImageDataGenerator\n",
        "from keras.callbacks import ReduceLROnPlateau, Callback\n",
        "from keras import regularizers\n",
        "from keras.optimizers import Adam\n",
        "####!pip freeze"
      ]
    },
    {
      "cell_type": "markdown",
      "metadata": {
        "id": "pfr3w32BlQ7x"
      },
      "source": [
        "This is a dataset of handwritten grayscale images where each image is 28x28 pixels in .CSV format. Evaluating digits is much simpler than other image recognition problems so this is a perfect dataset for evaluating different models."
      ]
    },
    {
      "cell_type": "markdown",
      "metadata": {
        "id": "_DoVVCkn8Cko"
      },
      "source": [
        "###### Place the train.csv file in your google drive under the xpro path"
      ]
    },
    {
      "cell_type": "code",
      "execution_count": 91,
      "metadata": {
        "id": "NMLtOiF-QmsU"
      },
      "outputs": [],
      "source": [
        "#from google.colab import drive\n",
        "#drive.mount('/content/drive')\n",
        "df = pd.read_csv(\"sample_data/train.csv\")\n",
        "# test_df = pd.read_csv(\"/content/drive/MyDrive/XPro/test.csv\")"
      ]
    },
    {
      "cell_type": "code",
      "execution_count": 92,
      "metadata": {
        "colab": {
          "base_uri": "https://localhost:8080/",
          "height": 110
        },
        "id": "8ElqSh3nRNBm",
        "outputId": "695171b2-ea42-4fe2-f856-47ff91a28f5f"
      },
      "outputs": [
        {
          "output_type": "execute_result",
          "data": {
            "text/plain": [
              "       label  pixel0  pixel1  pixel2  pixel3  pixel4  pixel5  pixel6  pixel7  \\\n",
              "32686      8       0       0       0       0       0       0       0       0   \n",
              "\n",
              "       pixel8  ...  pixel774  pixel775  pixel776  pixel777  pixel778  \\\n",
              "32686       0  ...         0         0         0         0         0   \n",
              "\n",
              "       pixel779  pixel780  pixel781  pixel782  pixel783  \n",
              "32686         0         0         0         0         0  \n",
              "\n",
              "[1 rows x 785 columns]"
            ],
            "text/html": [
              "\n",
              "  <div id=\"df-e2c19449-3c9a-4aef-b608-f81d74fa935f\" class=\"colab-df-container\">\n",
              "    <div>\n",
              "<style scoped>\n",
              "    .dataframe tbody tr th:only-of-type {\n",
              "        vertical-align: middle;\n",
              "    }\n",
              "\n",
              "    .dataframe tbody tr th {\n",
              "        vertical-align: top;\n",
              "    }\n",
              "\n",
              "    .dataframe thead th {\n",
              "        text-align: right;\n",
              "    }\n",
              "</style>\n",
              "<table border=\"1\" class=\"dataframe\">\n",
              "  <thead>\n",
              "    <tr style=\"text-align: right;\">\n",
              "      <th></th>\n",
              "      <th>label</th>\n",
              "      <th>pixel0</th>\n",
              "      <th>pixel1</th>\n",
              "      <th>pixel2</th>\n",
              "      <th>pixel3</th>\n",
              "      <th>pixel4</th>\n",
              "      <th>pixel5</th>\n",
              "      <th>pixel6</th>\n",
              "      <th>pixel7</th>\n",
              "      <th>pixel8</th>\n",
              "      <th>...</th>\n",
              "      <th>pixel774</th>\n",
              "      <th>pixel775</th>\n",
              "      <th>pixel776</th>\n",
              "      <th>pixel777</th>\n",
              "      <th>pixel778</th>\n",
              "      <th>pixel779</th>\n",
              "      <th>pixel780</th>\n",
              "      <th>pixel781</th>\n",
              "      <th>pixel782</th>\n",
              "      <th>pixel783</th>\n",
              "    </tr>\n",
              "  </thead>\n",
              "  <tbody>\n",
              "    <tr>\n",
              "      <th>32686</th>\n",
              "      <td>8</td>\n",
              "      <td>0</td>\n",
              "      <td>0</td>\n",
              "      <td>0</td>\n",
              "      <td>0</td>\n",
              "      <td>0</td>\n",
              "      <td>0</td>\n",
              "      <td>0</td>\n",
              "      <td>0</td>\n",
              "      <td>0</td>\n",
              "      <td>...</td>\n",
              "      <td>0</td>\n",
              "      <td>0</td>\n",
              "      <td>0</td>\n",
              "      <td>0</td>\n",
              "      <td>0</td>\n",
              "      <td>0</td>\n",
              "      <td>0</td>\n",
              "      <td>0</td>\n",
              "      <td>0</td>\n",
              "      <td>0</td>\n",
              "    </tr>\n",
              "  </tbody>\n",
              "</table>\n",
              "<p>1 rows × 785 columns</p>\n",
              "</div>\n",
              "    <div class=\"colab-df-buttons\">\n",
              "\n",
              "  <div class=\"colab-df-container\">\n",
              "    <button class=\"colab-df-convert\" onclick=\"convertToInteractive('df-e2c19449-3c9a-4aef-b608-f81d74fa935f')\"\n",
              "            title=\"Convert this dataframe to an interactive table.\"\n",
              "            style=\"display:none;\">\n",
              "\n",
              "  <svg xmlns=\"http://www.w3.org/2000/svg\" height=\"24px\" viewBox=\"0 -960 960 960\">\n",
              "    <path d=\"M120-120v-720h720v720H120Zm60-500h600v-160H180v160Zm220 220h160v-160H400v160Zm0 220h160v-160H400v160ZM180-400h160v-160H180v160Zm440 0h160v-160H620v160ZM180-180h160v-160H180v160Zm440 0h160v-160H620v160Z\"/>\n",
              "  </svg>\n",
              "    </button>\n",
              "\n",
              "  <style>\n",
              "    .colab-df-container {\n",
              "      display:flex;\n",
              "      gap: 12px;\n",
              "    }\n",
              "\n",
              "    .colab-df-convert {\n",
              "      background-color: #E8F0FE;\n",
              "      border: none;\n",
              "      border-radius: 50%;\n",
              "      cursor: pointer;\n",
              "      display: none;\n",
              "      fill: #1967D2;\n",
              "      height: 32px;\n",
              "      padding: 0 0 0 0;\n",
              "      width: 32px;\n",
              "    }\n",
              "\n",
              "    .colab-df-convert:hover {\n",
              "      background-color: #E2EBFA;\n",
              "      box-shadow: 0px 1px 2px rgba(60, 64, 67, 0.3), 0px 1px 3px 1px rgba(60, 64, 67, 0.15);\n",
              "      fill: #174EA6;\n",
              "    }\n",
              "\n",
              "    .colab-df-buttons div {\n",
              "      margin-bottom: 4px;\n",
              "    }\n",
              "\n",
              "    [theme=dark] .colab-df-convert {\n",
              "      background-color: #3B4455;\n",
              "      fill: #D2E3FC;\n",
              "    }\n",
              "\n",
              "    [theme=dark] .colab-df-convert:hover {\n",
              "      background-color: #434B5C;\n",
              "      box-shadow: 0px 1px 3px 1px rgba(0, 0, 0, 0.15);\n",
              "      filter: drop-shadow(0px 1px 2px rgba(0, 0, 0, 0.3));\n",
              "      fill: #FFFFFF;\n",
              "    }\n",
              "  </style>\n",
              "\n",
              "    <script>\n",
              "      const buttonEl =\n",
              "        document.querySelector('#df-e2c19449-3c9a-4aef-b608-f81d74fa935f button.colab-df-convert');\n",
              "      buttonEl.style.display =\n",
              "        google.colab.kernel.accessAllowed ? 'block' : 'none';\n",
              "\n",
              "      async function convertToInteractive(key) {\n",
              "        const element = document.querySelector('#df-e2c19449-3c9a-4aef-b608-f81d74fa935f');\n",
              "        const dataTable =\n",
              "          await google.colab.kernel.invokeFunction('convertToInteractive',\n",
              "                                                    [key], {});\n",
              "        if (!dataTable) return;\n",
              "\n",
              "        const docLinkHtml = 'Like what you see? Visit the ' +\n",
              "          '<a target=\"_blank\" href=https://colab.research.google.com/notebooks/data_table.ipynb>data table notebook</a>'\n",
              "          + ' to learn more about interactive tables.';\n",
              "        element.innerHTML = '';\n",
              "        dataTable['output_type'] = 'display_data';\n",
              "        await google.colab.output.renderOutput(dataTable, element);\n",
              "        const docLink = document.createElement('div');\n",
              "        docLink.innerHTML = docLinkHtml;\n",
              "        element.appendChild(docLink);\n",
              "      }\n",
              "    </script>\n",
              "  </div>\n",
              "\n",
              "\n",
              "    </div>\n",
              "  </div>\n"
            ],
            "application/vnd.google.colaboratory.intrinsic+json": {
              "type": "dataframe"
            }
          },
          "metadata": {},
          "execution_count": 92
        }
      ],
      "source": [
        "df.sample(1)"
      ]
    },
    {
      "cell_type": "markdown",
      "metadata": {
        "id": "x0zuMC0Vl_L0"
      },
      "source": [
        "Write a method to visualize the images:"
      ]
    },
    {
      "cell_type": "code",
      "execution_count": 93,
      "metadata": {
        "id": "8qUat4TTIZCK"
      },
      "outputs": [],
      "source": [
        "\n",
        "\n",
        "def display_images(X, y=[], rows=5, columns=5, cmap=\"gray\"):\n",
        "    \"\"\" Display images and labels\n",
        "    \"\"\"\n",
        "    fig, ax = plt.subplots(rows,columns, figsize=(6,6))\n",
        "    for row in range(rows):\n",
        "        for column in range(columns):\n",
        "            ax[row][column].imshow(X[(row*columns)+column].reshape(28,28), cmap=cmap)\n",
        "            ax[row][column].set_axis_off()\n",
        "            if len(y):ax[row][column].set_title(\"{}:{}\".format(\"label\",np.argmax(y[(row*columns)+column])))\n",
        "    fig.tight_layout()\n",
        "\n",
        "%matplotlib inline"
      ]
    },
    {
      "cell_type": "markdown",
      "metadata": {
        "id": "HS3BAFYcmPrg"
      },
      "source": [
        "Training (60%): data used to train convnet;\n",
        "Cross validation (20%): data used to validate performance;\n",
        "Test (20%): data used to test the classification accuracy\n",
        "\n",
        "There is a separate test set available, but those images are not labeled so we cannot use them for evaluation."
      ]
    },
    {
      "cell_type": "code",
      "execution_count": 94,
      "metadata": {
        "colab": {
          "base_uri": "https://localhost:8080/"
        },
        "id": "teMfdzYoRQZy",
        "outputId": "b348da7d-3cb6-4ed8-fcad-1ca077707e1d"
      },
      "outputs": [
        {
          "output_type": "stream",
          "name": "stdout",
          "text": [
            "X_train:(25200, 784)\n",
            "y_train:(25200,)\n",
            "\n",
            "X_cv:(8400, 784)\n",
            "y_cv:(8400,)\n",
            "\n",
            "X_test:(8400, 784)\n",
            "y_test:(8400,)\n"
          ]
        }
      ],
      "source": [
        "X_train, X_val, y_train, y_val = train_test_split(df.iloc[:,1:].values, df.iloc[:,0].values, test_size = 0.4)\n",
        "X_cv, X_test, y_cv, y_test = train_test_split(X_val, y_val, test_size = 0.5)\n",
        "print(\"X_train:{}\\ny_train:{}\\n\\nX_cv:{}\\ny_cv:{}\\n\\nX_test:{}\\ny_test:{}\".format(X_train.shape, y_train.shape, X_cv.shape, y_cv.shape, X_test.shape, y_test.shape))"
      ]
    },
    {
      "cell_type": "markdown",
      "metadata": {
        "id": "Kp3-gWIHmhKb"
      },
      "source": [
        "The images are in .CSV format meaning they are represented by 784 values. You need to reformat the data to be 28x28. You also need to normalize the gray scale from 0-255 to 0-1."
      ]
    },
    {
      "cell_type": "code",
      "execution_count": 95,
      "metadata": {
        "colab": {
          "base_uri": "https://localhost:8080/"
        },
        "id": "N8BWQOjIRUv4",
        "outputId": "7a82de05-413f-4def-d85d-e39e0cbb7596"
      },
      "outputs": [
        {
          "output_type": "stream",
          "name": "stdout",
          "text": [
            "Reshaped:\n",
            "X_train:(25200, 28, 28, 1)\n",
            "y_train:(25200, 10)\n",
            "\n",
            "X_cv:(8400, 28, 28, 1)\n",
            "y_cv:(8400, 10)\n",
            "\n",
            "X_test:(8400, 28, 28, 1)\n",
            "y_test:(8400, 10)\n"
          ]
        }
      ],
      "source": [
        "width = 28\n",
        "height = 28\n",
        "channels = 1\n",
        "X_train = X_train.reshape(X_train.shape[0], width, height, channels)\n",
        "X_cv = X_cv.reshape(X_cv.shape[0], width, height, channels)\n",
        "X_test = X_test.reshape(X_test.shape[0], width, height, channels)\n",
        "\n",
        "# convert output classes to one hot representation\n",
        "y_train = np_utils.to_categorical(y_train, num_classes=10) # 0..9\n",
        "y_cv = np_utils.to_categorical(y_cv, num_classes=10)\n",
        "y_test = np_utils.to_categorical(y_test, num_classes=10)\n",
        "\n",
        "X_train = X_train.astype('float32')\n",
        "X_cv = X_cv.astype('float32')\n",
        "X_test = X_test.astype('float32')\n",
        "\n",
        "# Scale features (pixel values) from 0-255, to 0-1\n",
        "X_train /= 255\n",
        "X_cv /= 255\n",
        "X_test /= 255\n",
        "print(\"Reshaped:\")\n",
        "print(\"X_train:{}\\ny_train:{}\\n\\nX_cv:{}\\ny_cv:{}\\n\\nX_test:{}\\ny_test:{}\".format(X_train.shape, y_train.shape, X_cv.shape, y_cv.shape, X_test.shape, y_test.shape))"
      ]
    },
    {
      "cell_type": "code",
      "execution_count": 96,
      "metadata": {
        "colab": {
          "base_uri": "https://localhost:8080/",
          "height": 607
        },
        "id": "tDOib4exRYEP",
        "outputId": "692e90ca-74af-443c-b691-3a5c04d2f453"
      },
      "outputs": [
        {
          "output_type": "display_data",
          "data": {
            "text/plain": [
              "<Figure size 600x600 with 25 Axes>"
            ],
            "image/png": "[encoded data removed]"
          },
          "metadata": {}
        }
      ],
      "source": [
        "display_images(X_train, y_train)"
      ]
    },
    {
      "cell_type": "markdown",
      "metadata": {
        "id": "iW0Qho_anIHH"
      },
      "source": [
        "\n",
        "\n",
        "```\n",
        "# This is formatted as code\n",
        "```\n",
        "\n",
        "You will be making three total models so you should define methods to standardize the models and maintain consistency.\n",
        "\n",
        "Try changing teh epochs and see how it affects your model"
      ]
    },
    {
      "cell_type": "code",
      "execution_count": 97,
      "metadata": {
        "id": "HPWITeUiRoHC"
      },
      "outputs": [],
      "source": [
        "batch_size=84\n",
        "epochs=5 # Change to 30\n",
        "verbose=2\n",
        "\n",
        "class LossHistory(Callback):\n",
        "    def on_train_begin(self, logs={}):\n",
        "        self.losses = []\n",
        "\n",
        "    def on_batch_end(self, batch, logs={}):\n",
        "        self.losses.append(logs.get('loss'))\n",
        "\n",
        "\n",
        "def create_model(name:str):\n",
        "    model = Sequential()\n",
        "    model._name = name\n",
        "    # input\n",
        "    model.add(Conv2D(32, (5,5), padding=\"same\", activation='relu', input_shape=(width, height, channels) ))\n",
        "    model.add(Conv2D(32, (5,5), padding=\"same\", activation='relu'))\n",
        "    model.add(MaxPooling2D(pool_size=(2,2)))\n",
        "    model.add(Dropout(0.4))\n",
        "    model.add(Conv2D(64, (3,3), padding=\"same\", activation='relu'))\n",
        "    model.add(Conv2D(64, (3,3), padding=\"same\", activation='relu'))\n",
        "    model.add(MaxPooling2D(pool_size=(2,2)))\n",
        "    model.add(Dropout(0.5))\n",
        "    model.add(Flatten())\n",
        "    model.add(Dense(384, activation='relu'))\n",
        "    model.add(Dropout(0.5))\n",
        "    model.add(Dense(10, activation='softmax'))\n",
        "    print(model.summary())\n",
        "    opt = \"adam\" #Adam(lr=0.0001, beta_1=0.9, beta_2=0.999, epsilon=1e-08)\n",
        "    model.compile(loss='categorical_crossentropy',\n",
        "                  optimizer=opt,\n",
        "                  metrics=['accuracy'])\n",
        "    return model"
      ]
    },
    {
      "cell_type": "code",
      "execution_count": 98,
      "metadata": {
        "id": "Fdx31fEDRq3h"
      },
      "outputs": [],
      "source": [
        "def plot_metrics(h, title=\"\"):\n",
        "    \"\"\" Plot training metrics - loss and accuracy, for each epoch,\n",
        "        given a training history object\n",
        "    \"\"\"\n",
        "    fig, axes = plt.subplots(1,2, figsize=(10,5))\n",
        "\n",
        "    axes[0].plot(h.history['loss'], color=\"lightblue\", label=\"Training\", lw=2.0)\n",
        "    axes[0].plot(h.history['val_loss'], color=\"steelblue\", label=\"Validation\", lw=2.0)\n",
        "\n",
        "    axes[0].set_title(f\"{title} (Loss)\")\n",
        "    axes[0].set_xlabel(\"Epoch\")\n",
        "    axes[0].set_xticks(np.arange(len(h.history[\"loss\"]), 2))\n",
        "    axes[0].set_ylabel(\"Loss\")\n",
        "\n",
        "    axes[1].plot(h.history['accuracy'], color=\"lightblue\", label=\"Training\", lw=2.0)\n",
        "    axes[1].plot(h.history['val_accuracy'], color=\"steelblue\", label=\"Validation\", lw=2.0)\n",
        "\n",
        "    axes[1].set_title(f\"{title} (Accuracy)\")\n",
        "    axes[1].set_xlabel(\"Epoch\")\n",
        "    axes[1].set_xticks(np.arange(len(h.history[\"accuracy\"]), 2))\n",
        "    axes[1].set_ylabel(\"Accuracy\")\n",
        "\n",
        "\n",
        "    for axis in axes:\n",
        "      axis.ticklabel_format(useOffset=False)\n",
        "      axis.spines[\"top\"].set_visible(False)\n",
        "      axis.spines[\"right\"].set_visible(False)\n",
        "      axis.legend(loc='best', shadow=False)\n",
        "    fig.tight_layout()"
      ]
    },
    {
      "cell_type": "code",
      "execution_count": 99,
      "metadata": {
        "id": "4l2x7qkSR7Ym"
      },
      "outputs": [],
      "source": [
        "def plot_losses(batch_hist, title=\"\"):\n",
        "    fig, ax1 = plt.subplots()\n",
        "\n",
        "    ax1.semilogx(batch_hist.losses)\n",
        "    ax1.set_title(\"{} (Batch Loss)\".format(title))\n",
        "\n",
        "    ax1.spines[\"top\"].set_visible(False)\n",
        "    ax1.spines[\"right\"].set_visible(False)\n",
        "\n",
        "    plt.show()"
      ]
    },
    {
      "cell_type": "markdown",
      "metadata": {
        "id": "6Zwz_xcEnVsJ"
      },
      "source": [
        "Create your first model and visualize it:"
      ]
    },
    {
      "cell_type": "code",
      "execution_count": 100,
      "metadata": {
        "colab": {
          "base_uri": "https://localhost:8080/"
        },
        "id": "cO6Ddf5uR-dN",
        "outputId": "68520d71-41fc-4f2d-8602-044015bfb9e7"
      },
      "outputs": [
        {
          "output_type": "stream",
          "name": "stdout",
          "text": [
            "Model: \"cnn_model\"\n",
            "_________________________________________________________________\n",
            " Layer (type)                Output Shape              Param #   \n",
            "=================================================================\n",
            " conv2d_48 (Conv2D)          (None, 28, 28, 32)        832       \n",
            "                                                                 \n",
            " conv2d_49 (Conv2D)          (None, 28, 28, 32)        25632     \n",
            "                                                                 \n",
            " max_pooling2d_24 (MaxPooli  (None, 14, 14, 32)        0         \n",
            " ng2D)                                                           \n",
            "                                                                 \n",
            " dropout_36 (Dropout)        (None, 14, 14, 32)        0         \n",
            "                                                                 \n",
            " conv2d_50 (Conv2D)          (None, 14, 14, 64)        18496     \n",
            "                                                                 \n",
            " conv2d_51 (Conv2D)          (None, 14, 14, 64)        36928     \n",
            "                                                                 \n",
            " max_pooling2d_25 (MaxPooli  (None, 7, 7, 64)          0         \n",
            " ng2D)                                                           \n",
            "                                                                 \n",
            " dropout_37 (Dropout)        (None, 7, 7, 64)          0         \n",
            "                                                                 \n",
            " flatten_12 (Flatten)        (None, 3136)              0         \n",
            "                                                                 \n",
            " dense_24 (Dense)            (None, 384)               1204608   \n",
            "                                                                 \n",
            " dropout_38 (Dropout)        (None, 384)               0         \n",
            "                                                                 \n",
            " dense_25 (Dense)            (None, 10)                3850      \n",
            "                                                                 \n",
            "=================================================================\n",
            "Total params: 1290346 (4.92 MB)\n",
            "Trainable params: 1290346 (4.92 MB)\n",
            "Non-trainable params: 0 (0.00 Byte)\n",
            "_________________________________________________________________\n",
            "None\n",
            "Epoch 1/5\n",
            "300/300 - 163s - loss: 0.3766 - accuracy: 0.8757 - acc: 0.8757 - val_loss: 0.0706 - val_accuracy: 0.9761 - val_acc: 0.9761 - 163s/epoch - 545ms/step\n",
            "Epoch 2/5\n",
            "300/300 - 167s - loss: 0.1086 - accuracy: 0.9666 - acc: 0.9666 - val_loss: 0.0443 - val_accuracy: 0.9849 - val_acc: 0.9849 - 167s/epoch - 558ms/step\n",
            "Epoch 3/5\n",
            "300/300 - 168s - loss: 0.0804 - accuracy: 0.9748 - acc: 0.9748 - val_loss: 0.0467 - val_accuracy: 0.9852 - val_acc: 0.9852 - 168s/epoch - 559ms/step\n",
            "Epoch 4/5\n",
            "300/300 - 168s - loss: 0.0668 - accuracy: 0.9788 - acc: 0.9788 - val_loss: 0.0420 - val_accuracy: 0.9861 - val_acc: 0.9861 - 168s/epoch - 560ms/step\n",
            "Epoch 5/5\n",
            "300/300 - 168s - loss: 0.0579 - accuracy: 0.9812 - acc: 0.9812 - val_loss: 0.0319 - val_accuracy: 0.9894 - val_acc: 0.9894 - 168s/epoch - 560ms/step\n"
          ]
        }
      ],
      "source": [
        "model0 = create_model(name='cnn_model')\n",
        "\n",
        "model0_batch_hist = LossHistory()\n",
        "\n",
        "model0_metrics = model0.fit(\n",
        "    X_train, y_train, batch_size = batch_size, epochs = epochs,\n",
        "    validation_data = (X_cv, y_cv), verbose = verbose, shuffle=True, callbacks=[model0_batch_hist])\n",
        "\n",
        "#model0.save_weights(\"model0.h5\")"
      ]
    },
    {
      "cell_type": "markdown",
      "metadata": {
        "id": "fvmwgyC9oMHE"
      },
      "source": [
        "### Learning Rate Annealing"
      ]
    },
    {
      "cell_type": "markdown",
      "metadata": {
        "id": "XWOjMo22oJa6"
      },
      "source": [
        "Learning rate is the step size in gradient descent. If the step size is too large, the system may oscillate chaotically. On the other hand, if the step size is too small, it may take too long or may settle on a local minimum.\n",
        "\n",
        "You will watch validation accuracy in each epoch and reduce the learning rate to a third if it plateaus in two consecutive epochs. Keras provides an aptly named ReduceLROnPlateau callback to adapt the learning rate based on results from each epoch. Ref: ReduceLROnPlateau for more options.\n",
        "\n",
        "The verbose mode allows you to see when the learning rate reduction actually kicks in."
      ]
    },
    {
      "cell_type": "code",
      "execution_count": 101,
      "metadata": {
        "id": "sHe1dhsKSD7J",
        "colab": {
          "base_uri": "https://localhost:8080/"
        },
        "outputId": "06eb49bf-3112-48a1-f1ae-a68e16fb182b"
      },
      "outputs": [
        {
          "output_type": "stream",
          "name": "stderr",
          "text": [
            "WARNING:tensorflow:`epsilon` argument is deprecated and will be removed, use `min_delta` instead.\n"
          ]
        }
      ],
      "source": [
        "learning_rate_controller = ReduceLROnPlateau(monitor='val_loss', patience=2, verbose=verbose, factor=0.3, min_lr=0.00001, epsilon=0.001)"
      ]
    },
    {
      "cell_type": "markdown",
      "metadata": {
        "id": "NBaeLXp9oY3O"
      },
      "source": [
        "Create a new instance of the same model, but this time insert a callback to the learning rate control function defined above. Then fit the model to your training dataset and collect metrics."
      ]
    },
    {
      "cell_type": "code",
      "execution_count": 102,
      "metadata": {
        "id": "D-XH2GejSN7n",
        "colab": {
          "base_uri": "https://localhost:8080/"
        },
        "outputId": "6c92c4f3-ea32-4736-cb7b-6709fcb9cdcb"
      },
      "outputs": [
        {
          "output_type": "stream",
          "name": "stdout",
          "text": [
            "Model: \"cnn_lr_model\"\n",
            "_________________________________________________________________\n",
            " Layer (type)                Output Shape              Param #   \n",
            "=================================================================\n",
            " conv2d_52 (Conv2D)          (None, 28, 28, 32)        832       \n",
            "                                                                 \n",
            " conv2d_53 (Conv2D)          (None, 28, 28, 32)        25632     \n",
            "                                                                 \n",
            " max_pooling2d_26 (MaxPooli  (None, 14, 14, 32)        0         \n",
            " ng2D)                                                           \n",
            "                                                                 \n",
            " dropout_39 (Dropout)        (None, 14, 14, 32)        0         \n",
            "                                                                 \n",
            " conv2d_54 (Conv2D)          (None, 14, 14, 64)        18496     \n",
            "                                                                 \n",
            " conv2d_55 (Conv2D)          (None, 14, 14, 64)        36928     \n",
            "                                                                 \n",
            " max_pooling2d_27 (MaxPooli  (None, 7, 7, 64)          0         \n",
            " ng2D)                                                           \n",
            "                                                                 \n",
            " dropout_40 (Dropout)        (None, 7, 7, 64)          0         \n",
            "                                                                 \n",
            " flatten_13 (Flatten)        (None, 3136)              0         \n",
            "                                                                 \n",
            " dense_26 (Dense)            (None, 384)               1204608   \n",
            "                                                                 \n",
            " dropout_41 (Dropout)        (None, 384)               0         \n",
            "                                                                 \n",
            " dense_27 (Dense)            (None, 10)                3850      \n",
            "                                                                 \n",
            "=================================================================\n",
            "Total params: 1290346 (4.92 MB)\n",
            "Trainable params: 1290346 (4.92 MB)\n",
            "Non-trainable params: 0 (0.00 Byte)\n",
            "_________________________________________________________________\n",
            "None\n",
            "Epoch 1/5\n",
            "300/300 - 169s - loss: 0.3621 - accuracy: 0.8806 - acc: 0.8806 - val_loss: 0.0726 - val_accuracy: 0.9751 - val_acc: 0.9751 - lr: 0.0010 - 169s/epoch - 564ms/step\n",
            "Epoch 2/5\n",
            "300/300 - 167s - loss: 0.1149 - accuracy: 0.9638 - acc: 0.9638 - val_loss: 0.0491 - val_accuracy: 0.9850 - val_acc: 0.9850 - lr: 0.0010 - 167s/epoch - 558ms/step\n",
            "Epoch 3/5\n",
            "300/300 - 168s - loss: 0.0832 - accuracy: 0.9742 - acc: 0.9742 - val_loss: 0.0478 - val_accuracy: 0.9850 - val_acc: 0.9850 - lr: 0.0010 - 168s/epoch - 561ms/step\n",
            "Epoch 4/5\n",
            "300/300 - 169s - loss: 0.0695 - accuracy: 0.9785 - acc: 0.9785 - val_loss: 0.0406 - val_accuracy: 0.9865 - val_acc: 0.9865 - lr: 0.0010 - 169s/epoch - 563ms/step\n",
            "Epoch 5/5\n",
            "300/300 - 169s - loss: 0.0598 - accuracy: 0.9802 - acc: 0.9802 - val_loss: 0.0425 - val_accuracy: 0.9855 - val_acc: 0.9855 - lr: 0.0010 - 169s/epoch - 565ms/step\n"
          ]
        }
      ],
      "source": [
        "model1 = create_model(name='cnn_lr_model')\n",
        "model1_batch_hist = LossHistory()\n",
        "model1_metrics = model1.fit(X_train, y_train, batch_size = batch_size, epochs = epochs,\n",
        "          validation_data = (X_cv, y_cv), verbose = verbose, shuffle=True, callbacks=[learning_rate_controller,model1_batch_hist])\n",
        "#model1.save_weights(\"model1.h5\")"
      ]
    },
    {
      "cell_type": "markdown",
      "metadata": {
        "id": "n_SJgHTNocZw"
      },
      "source": [
        "# Data Augmentation\n",
        "To reduce overfitting and to improve classification accuracy, you can augment the training samples with random transformations of images in the training set. In Keras, this is done using keras.preprocessing.image.ImageDataGenerator class. You can apply random transformations such as zooming, rotation, and shifting the image up or down. You should limit the rotation to a few degrees, and disable horizontal and vertical flipping, as this dataset of digits is prone to produce ambiguous results with these operations.\n",
        "\n",
        "See ImageDataGenerator for lots of other options that are useful for other types of images."
      ]
    },
    {
      "cell_type": "code",
      "execution_count": 103,
      "metadata": {
        "id": "ffxWBAOfSQor"
      },
      "outputs": [],
      "source": [
        "idg = ImageDataGenerator(\n",
        "        rotation_range=10,\n",
        "        zoom_range = 0.05,\n",
        "        width_shift_range=0.05,\n",
        "        height_shift_range=0.05,\n",
        "        horizontal_flip=False,\n",
        "        vertical_flip=False, data_format=\"channels_last\")"
      ]
    },
    {
      "cell_type": "markdown",
      "metadata": {
        "id": "GVs0niLtokPw"
      },
      "source": [
        "Example images are generated:"
      ]
    },
    {
      "cell_type": "code",
      "execution_count": 104,
      "metadata": {
        "id": "WkxHGToZSS2h",
        "colab": {
          "base_uri": "https://localhost:8080/",
          "height": 625
        },
        "outputId": "8148949f-9203-4bd5-c844-20f58bd6e77a"
      },
      "outputs": [
        {
          "output_type": "stream",
          "name": "stdout",
          "text": [
            "Sample images from ImageDataGenerator:\n"
          ]
        },
        {
          "output_type": "display_data",
          "data": {
            "text/plain": [
              "<Figure size 600x600 with 25 Axes>"
            ],
            "image/png": "[encoded data removed]"
          },
          "metadata": {}
        }
      ],
      "source": [
        "image_data = idg.flow(X_train,y_train, batch_size=25).next()\n",
        "print(\"Sample images from ImageDataGenerator:\")\n",
        "display_images(image_data[0], image_data[1])"
      ]
    },
    {
      "cell_type": "markdown",
      "metadata": {
        "id": "wOJwXUTUoxL-"
      },
      "source": [
        "# New SectionModel with data augmentation\n",
        "Create yet another instance of the model you defined earlier with the learning rate annealer. This time instead of fitting it to the training dataset, you will instead fit it to the images generated by the ImageDataGenerator. Then collect loss and accuracy metrics for comparison."
      ]
    },
    {
      "cell_type": "code",
      "execution_count": 105,
      "metadata": {
        "id": "YECqs0tLSV72",
        "colab": {
          "base_uri": "https://localhost:8080/"
        },
        "outputId": "c3c3566f-bb6f-40de-ee04-21abedab65c0"
      },
      "outputs": [
        {
          "output_type": "stream",
          "name": "stdout",
          "text": [
            "Model: \"cnn_lr_aug_model\"\n",
            "_________________________________________________________________\n",
            " Layer (type)                Output Shape              Param #   \n",
            "=================================================================\n",
            " conv2d_56 (Conv2D)          (None, 28, 28, 32)        832       \n",
            "                                                                 \n",
            " conv2d_57 (Conv2D)          (None, 28, 28, 32)        25632     \n",
            "                                                                 \n",
            " max_pooling2d_28 (MaxPooli  (None, 14, 14, 32)        0         \n",
            " ng2D)                                                           \n",
            "                                                                 \n",
            " dropout_42 (Dropout)        (None, 14, 14, 32)        0         \n",
            "                                                                 \n",
            " conv2d_58 (Conv2D)          (None, 14, 14, 64)        18496     \n",
            "                                                                 \n",
            " conv2d_59 (Conv2D)          (None, 14, 14, 64)        36928     \n",
            "                                                                 \n",
            " max_pooling2d_29 (MaxPooli  (None, 7, 7, 64)          0         \n",
            " ng2D)                                                           \n",
            "                                                                 \n",
            " dropout_43 (Dropout)        (None, 7, 7, 64)          0         \n",
            "                                                                 \n",
            " flatten_14 (Flatten)        (None, 3136)              0         \n",
            "                                                                 \n",
            " dense_28 (Dense)            (None, 384)               1204608   \n",
            "                                                                 \n",
            " dropout_44 (Dropout)        (None, 384)               0         \n",
            "                                                                 \n",
            " dense_29 (Dense)            (None, 10)                3850      \n",
            "                                                                 \n",
            "=================================================================\n",
            "Total params: 1290346 (4.92 MB)\n",
            "Trainable params: 1290346 (4.92 MB)\n",
            "Non-trainable params: 0 (0.00 Byte)\n",
            "_________________________________________________________________\n",
            "None\n",
            "Epoch 1/5\n"
          ]
        },
        {
          "output_type": "stream",
          "name": "stderr",
          "text": [
            "<ipython-input-105-63c13a8a757b>:3: UserWarning: `Model.fit_generator` is deprecated and will be removed in a future version. Please use `Model.fit`, which supports generators.\n",
            "  model2_metrics = model2.fit_generator(idg.flow(X_train,y_train, batch_size=batch_size),\n"
          ]
        },
        {
          "output_type": "stream",
          "name": "stdout",
          "text": [
            "300/300 - 169s - loss: 0.4482 - accuracy: 0.8525 - acc: 0.8525 - val_loss: 0.0679 - val_accuracy: 0.9795 - val_acc: 0.9795 - lr: 0.0010 - 169s/epoch - 564ms/step\n",
            "Epoch 2/5\n",
            "300/300 - 169s - loss: 0.1446 - accuracy: 0.9557 - acc: 0.9557 - val_loss: 0.0528 - val_accuracy: 0.9840 - val_acc: 0.9840 - lr: 0.0010 - 169s/epoch - 563ms/step\n",
            "Epoch 3/5\n",
            "300/300 - 168s - loss: 0.1092 - accuracy: 0.9668 - acc: 0.9668 - val_loss: 0.0355 - val_accuracy: 0.9879 - val_acc: 0.9879 - lr: 0.0010 - 168s/epoch - 560ms/step\n",
            "Epoch 4/5\n",
            "300/300 - 165s - loss: 0.0943 - accuracy: 0.9710 - acc: 0.9710 - val_loss: 0.0322 - val_accuracy: 0.9880 - val_acc: 0.9880 - lr: 0.0010 - 165s/epoch - 551ms/step\n",
            "Epoch 5/5\n",
            "300/300 - 175s - loss: 0.0836 - accuracy: 0.9734 - acc: 0.9734 - val_loss: 0.0259 - val_accuracy: 0.9911 - val_acc: 0.9911 - lr: 0.0010 - 175s/epoch - 584ms/step\n"
          ]
        }
      ],
      "source": [
        "model2 = create_model(name='cnn_lr_aug_model')\n",
        "model2_batch_hist = LossHistory()\n",
        "model2_metrics = model2.fit_generator(idg.flow(X_train,y_train, batch_size=batch_size),\n",
        "                    epochs = epochs,\n",
        "                    steps_per_epoch=X_train.shape[0]//batch_size,\n",
        "                    validation_data=(X_cv,y_cv),\n",
        "                    callbacks=[learning_rate_controller,model2_batch_hist],\n",
        "                    verbose = verbose)\n",
        "#model2.save_weights(\"model2.h5\")"
      ]
    },
    {
      "cell_type": "markdown",
      "metadata": {
        "id": "_MWdFycqo1xy"
      },
      "source": [
        "# Comparing the loss functions\n",
        "A plot of the loss function over all batches shows the effects of learning rate annealing and data augmentation. The learning rate annealer appears to reduce noise.\n"
      ]
    },
    {
      "cell_type": "code",
      "execution_count": null,
      "metadata": {
        "id": "HNEAuy8kSZPj"
      },
      "outputs": [],
      "source": [
        "plot_losses(model0_batch_hist, \"CNN\")\n",
        "plot_losses(model1_batch_hist, \"CNN with Learning Rate Annealer\")\n",
        "plot_losses(model2_batch_hist, \"CNN with Augmented Data\")"
      ]
    },
    {
      "cell_type": "markdown",
      "metadata": {
        "id": "GFv6n3E3o_mF"
      },
      "source": [
        "# Results\n",
        "Keras provides a History callback that returns loss and accuracy metrics for training and validation sets for each epoch. Plots of the loss and accuracy metrics on training and validation data from the three models, help you to see the effects of learning rate annealing and data augmentation.\n",
        "\n",
        "The learning rate annealer smoothed the loss and accuracy metrics.\n",
        "Data augmentation reduced overfitting compared to the previous models."
      ]
    },
    {
      "cell_type": "code",
      "execution_count": null,
      "metadata": {
        "id": "dH2CBampSdFs"
      },
      "outputs": [],
      "source": [
        "plot_metrics(model0_metrics,\"Convolutional Neural Network\")\n",
        "plot_metrics(model1_metrics,\"CNN with Learning Rate Annealer\\n\")\n",
        "plot_metrics(model2_metrics,\"CNN with Annealer and Data Augmentation\\n\")"
      ]
    },
    {
      "cell_type": "markdown",
      "metadata": {
        "id": "e8XQrEwLpGr6"
      },
      "source": [
        "# Classification Accuracy\n",
        "Finally, a summary of how the three models performed in terms of training, validation and test accuracy:"
      ]
    },
    {
      "cell_type": "code",
      "execution_count": 106,
      "metadata": {
        "id": "FCpsa0OpSh0O",
        "colab": {
          "base_uri": "https://localhost:8080/",
          "height": 596
        },
        "outputId": "5ae3d18a-811a-4756-8aa9-de0cc5c9ae83"
      },
      "outputs": [
        {
          "output_type": "display_data",
          "data": {
            "text/plain": [
              "<IPython.core.display.HTML object>"
            ],
            "text/html": [
              "<table border=\"1\" class=\"dataframe\">\n",
              "  <thead>\n",
              "    <tr style=\"text-align: right;\">\n",
              "      <th>Model</th>\n",
              "      <th>Training Accuracy</th>\n",
              "      <th>Validation Accuracy</th>\n",
              "      <th>Test Accuracy</th>\n",
              "    </tr>\n",
              "  </thead>\n",
              "  <tbody>\n",
              "    <tr>\n",
              "      <td>Convolutional Neural Network</td>\n",
              "      <td>98.12</td>\n",
              "      <td>98.94</td>\n",
              "      <td>98.81</td>\n",
              "    </tr>\n",
              "    <tr>\n",
              "      <td>CNN + Learning Rate Annealing</td>\n",
              "      <td>98.02</td>\n",
              "      <td>98.55</td>\n",
              "      <td>98.49</td>\n",
              "    </tr>\n",
              "    <tr>\n",
              "      <td>CNN + LR + Data Augmentation</td>\n",
              "      <td>97.34</td>\n",
              "      <td>99.11</td>\n",
              "      <td>98.93</td>\n",
              "    </tr>\n",
              "  </tbody>\n",
              "</table>"
            ]
          },
          "metadata": {}
        },
        {
          "output_type": "execute_result",
          "data": {
            "text/plain": [
              "Text(0.5, 1.0, 'Accuracy')"
            ]
          },
          "metadata": {},
          "execution_count": 106
        },
        {
          "output_type": "display_data",
          "data": {
            "text/plain": [
              "<Figure size 640x480 with 1 Axes>"
            ],
            "image/png": "[encoded data removed]"
          },
          "metadata": {}
        }
      ],
      "source": [
        "models = [model0, model1, model2]\n",
        "metrics = [model0_metrics, model1_metrics, model2_metrics]\n",
        "names = [\"Convolutional Neural Network\", \"CNN + Learning Rate Annealing\", \"CNN + LR + Data Augmentation\"\n",
        "         ]\n",
        "data = []\n",
        "for i, m in enumerate(zip(names, metrics, models)):\n",
        "    data.append([m[0], \"{:0.2f}\".format(m[1].history[\"accuracy\"][-1]*100), \"{:0.2f}\".format(m[1].history[\"val_acc\"][-1]*100), \"{:0.2f}\".format(m[2].evaluate(X_test, y_test, verbose=0)[1]*100)])\n",
        "\n",
        "results = pd.DataFrame(data, columns=(\"Model\",\"Training Accuracy\",\"Validation Accuracy\", \"Test Accuracy\"))\n",
        "from IPython.display import display, HTML\n",
        "display(HTML(results.to_html(index=False)))\n",
        "plt.bar(np.arange(len(results[\"Model\"].values)),results[\"Training Accuracy\"].values.astype(\"float64\"), 0.2, color=\"lightblue\")\n",
        "plt.bar(np.arange(len(results[\"Model\"].values))+0.2,results[\"Validation Accuracy\"].values.astype(\"float64\"), 0.2, color=\"steelblue\")\n",
        "plt.bar(np.arange(len(results[\"Model\"].values))+0.4,results[\"Test Accuracy\"].values.astype(\"float64\"), 0.2, color=\"navy\")\n",
        "plt.ylim(97, 100)\n",
        "plt.xticks(np.arange(len(results[\"Model\"].values))+0.2, [\"CNN\",\"CNN+LR\", \"CNN+LR+Aug\"])\n",
        "plt.legend([\"Training\",\"Validation\", \"Test\"],loc=(1,0.5))\n",
        "g = plt.gca()\n",
        "g.spines[\"top\"].set_visible(False)\n",
        "g.spines[\"right\"].set_visible(False)\n",
        "plt.title(\"Accuracy\")"
      ]
    }
  ],
  "metadata": {
    "colab": {
      "provenance": [],
      "include_colab_link": true
    },
    "kernelspec": {
      "display_name": "Python 3",
      "language": "python",
      "name": "python3"
    },
    "language_info": {
      "codemirror_mode": {
        "name": "ipython",
        "version": 3
      },
      "file_extension": ".py",
      "mimetype": "text/x-python",
      "name": "python",
      "nbconvert_exporter": "python",
      "pygments_lexer": "ipython3",
      "version": "3.6.9"
    }
  },
  "nbformat": 4,
  "nbformat_minor": 0
}